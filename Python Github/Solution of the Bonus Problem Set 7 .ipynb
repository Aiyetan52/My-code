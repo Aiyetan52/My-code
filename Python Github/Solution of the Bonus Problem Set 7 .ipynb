{
 "cells": [
  {
   "cell_type": "markdown",
   "metadata": {},
   "source": [
    "## Question 1"
   ]
  },
  {
   "cell_type": "markdown",
   "metadata": {},
   "source": [
    "There are two countries, A and B, bordering each other. Each country has a large factory located near the border they share. Each factory produces output $Q_i$ for $i=A,B$ and they receive the same price, $p$, and have cost functions, $0.5Q_{i}^2$. Production of output causes pollution damages. The pollution travels across the border resulting in pollution damages for each country equal to $d(Q_{A}+Q_{B})^2$ where $d>0$ is a constant marginal damage from pollution. Because of the pollution, the government sets a tax ti in each country per unit of output produced but only taxes the factory in their country. There are two stages in the game. First, the government in each country maximizes welfare by choosing their tax rate. The welfare in country i is $W_i=π_i+t_i Q_{i}-d(Q_{A}+Q_{B})^2$. In the second stage, the firms maximize profit $π_i$ by selecting output given the optimal taxes chosen by each government."
   ]
  },
  {
   "cell_type": "markdown",
   "metadata": {},
   "source": [
    "a.\tSolve for the Nash equilibrium tax rates and output levels for each country."
   ]
  },
  {
   "cell_type": "code",
   "execution_count": 1,
   "metadata": {},
   "outputs": [
    {
     "data": {
      "image/png": "[encoded data removed]",
      "text/latex": [
       "$\\displaystyle \\left[ \\left\\{ ti : \\frac{2.0 d \\left(2.0 p - tj\\right)}{2.0 d + 1.0}\\right\\}\\right]$"
      ],
      "text/plain": [
       "⎡⎧    2.0⋅d⋅(2.0⋅p - tj)⎫⎤\n",
       "⎢⎨ti: ──────────────────⎬⎥\n",
       "⎣⎩       2.0⋅d + 1.0    ⎭⎦"
      ]
     },
     "execution_count": 1,
     "metadata": {},
     "output_type": "execute_result"
    }
   ],
   "source": [
    "import sympy as sp\n",
    "import sympy \n",
    "from sympy import symbols \n",
    "from sympy import *\n",
    "sympy.init_printing()\n",
    "p,tj,d=sympy.symbols(('p','tj','d'))\n",
    "ti = sp.var('ti',real=True);#Define the choice variables\n",
    "profit= (1/2)*((p-ti)**2) #profit\n",
    "tax= ti*(p-ti)#tax\n",
    "Damage=d*((p-ti+p-tj)**2)#damage\n",
    "welfare=profit+tax-Damage # welfare equation \n",
    "W=Eq(diff(welfare,ti)) #first order condition\n",
    "Sol= sp.solve(W, [ti], dict=True) \n",
    "Sol"
   ]
  },
  {
   "cell_type": "code",
   "execution_count": 2,
   "metadata": {},
   "outputs": [
    {
     "data": {
      "image/png": "[encoded data removed]",
      "text/latex": [
       "$\\displaystyle \\left[ \\left\\{ tj : \\frac{2.0 d \\left(2.0 p - ti\\right)}{2.0 d + 1.0}\\right\\}\\right]$"
      ],
      "text/plain": [
       "⎡⎧    2.0⋅d⋅(2.0⋅p - ti)⎫⎤\n",
       "⎢⎨tj: ──────────────────⎬⎥\n",
       "⎣⎩       2.0⋅d + 1.0    ⎭⎦"
      ]
     },
     "execution_count": 2,
     "metadata": {},
     "output_type": "execute_result"
    }
   ],
   "source": [
    "#Similarly \n",
    "p,ti,d=sympy.symbols(('p','ti','d'))\n",
    "tj = sp.var('tj',real=True);#Define the choice variables\n",
    "profit= (1/2)*((p-tj)**2) #profit\n",
    "tax= tj*(p-tj)#tax\n",
    "Damage=d*((p-tj+p-ti)**2)#damage\n",
    "welfare=profit+tax-Damage # welfare equation \n",
    "W=Eq(diff(welfare,tj)) #first order condition\n",
    "Sol= sp.solve(W, [tj], dict=True) \n",
    "Sol"
   ]
  },
  {
   "cell_type": "code",
   "execution_count": 3,
   "metadata": {},
   "outputs": [
    {
     "data": {
      "image/png": "[encoded data removed]",
      "text/latex": [
       "$\\displaystyle \\left\\{ ti : \\frac{4 d p}{4 d + 1}, \\  tj : \\frac{4 d p}{4 d + 1}\\right\\}$"
      ],
      "text/plain": [
       "⎧     4⋅d⋅p        4⋅d⋅p ⎫\n",
       "⎨ti: ───────, tj: ───────⎬\n",
       "⎩    4⋅d + 1      4⋅d + 1⎭"
      ]
     },
     "execution_count": 3,
     "metadata": {},
     "output_type": "execute_result"
    }
   ],
   "source": [
    "sympy.init_printing()\n",
    "ti,tj=sympy.symbols((\"ti,tj\"))\n",
    "eq1=Eq((((2*d)*((2*p)-ti))/((2*d)+1))-tj,0)\n",
    "eq2=Eq((((2*d)*((2*p)-tj))/((2*d)+1))-ti,0)\n",
    "res=solve([eq1,eq2],(ti,tj))##system of equation###\n",
    "\n",
    "res"
   ]
  },
  {
   "cell_type": "code",
   "execution_count": 5,
   "metadata": {},
   "outputs": [
    {
     "data": {
      "image/png": "[encoded data removed]",
      "text/latex": [
       "$\\displaystyle - \\frac{4 d p}{4 d + 1} + p$"
      ],
      "text/plain": [
       "   4⋅d⋅p     \n",
       "- ─────── + p\n",
       "  4⋅d + 1    "
      ]
     },
     "execution_count": 5,
     "metadata": {},
     "output_type": "execute_result"
    }
   ],
   "source": [
    "t=(4*d*p)/(4*d+1)\n",
    "Q=p-t\n",
    "Q"
   ]
  },
  {
   "cell_type": "code",
   "execution_count": 6,
   "metadata": {},
   "outputs": [
    {
     "data": {
      "image/png": "[encoded data removed]",
      "text/latex": [
       "$\\displaystyle \\left\\{ ti : 5.71428571428571, \\  tj : 5.71428571428571\\right\\}$"
      ],
      "text/plain": [
       "{ti: 5.71428571428571, tj: 5.71428571428571}"
      ]
     },
     "execution_count": 6,
     "metadata": {},
     "output_type": "execute_result"
    }
   ],
   "source": [
    "d=0.1\n",
    "p=20\n",
    "sympy.init_printing()\n",
    "ti,tj=sympy.symbols((\"ti,tj\"))\n",
    "eq1=Eq((((2*d)*((2*p)-ti))/((2*d)+1))-tj,0)\n",
    "eq2=Eq((((2*d)*((2*p)-tj))/((2*d)+1))-ti,0)\n",
    "res=solve([eq1,eq2],(ti,tj))##system of equation###\n",
    "\n",
    "res"
   ]
  },
  {
   "cell_type": "code",
   "execution_count": 8,
   "metadata": {},
   "outputs": [
    {
     "data": {
      "image/png": "[encoded data removed]",
      "text/latex": [
       "$\\displaystyle 18.8$"
      ],
      "text/plain": [
       "18.8"
      ]
     },
     "execution_count": 8,
     "metadata": {},
     "output_type": "execute_result"
    }
   ],
   "source": [
    "t=4*d*p/4*d+1\n",
    "Q=p-t\n",
    "Q"
   ]
  },
  {
   "cell_type": "markdown",
   "metadata": {},
   "source": [
    "b.\tSolve for the Socially optimal tax rate that maximizes aggregate welfare and the corresponding output level."
   ]
  },
  {
   "cell_type": "code",
   "execution_count": 9,
   "metadata": {},
   "outputs": [
    {
     "data": {
      "image/png": "[encoded data removed]",
      "text/latex": [
       "$\\displaystyle \\left[ \\left\\{ ti : \\frac{4.0 d \\left(2.0 p - tj\\right)}{4.0 d + 1.0}\\right\\}\\right]$"
      ],
      "text/plain": [
       "⎡⎧    4.0⋅d⋅(2.0⋅p - tj)⎫⎤\n",
       "⎢⎨ti: ──────────────────⎬⎥\n",
       "⎣⎩       4.0⋅d + 1.0    ⎭⎦"
      ]
     },
     "execution_count": 9,
     "metadata": {},
     "output_type": "execute_result"
    }
   ],
   "source": [
    "p,tj,d=sympy.symbols(('p','tj','d'))\n",
    "ti = sp.var('ti',real=True);#Define the choice variables\n",
    "Welfare1= (1/2)*((p-ti)**2)+ti*(p-ti)-d*((p-ti+p-tj)**2) #welfare\n",
    "Welfare2= (1/2)*((p-tj)**2)+tj*(p-tj)-d*((p-tj+p-ti)**2)\n",
    "Twelfare=Welfare1+Welfare2 # welfare equation \n",
    "W=Eq(diff(Twelfare,ti)) #first order condition\n",
    "Sol= sp.solve(W, [ti], dict=True) \n",
    "Sol"
   ]
  },
  {
   "cell_type": "code",
   "execution_count": 10,
   "metadata": {},
   "outputs": [
    {
     "data": {
      "image/png": "[encoded data removed]",
      "text/latex": [
       "$\\displaystyle \\left[ \\left\\{ tj : \\frac{4.0 d \\left(2.0 p - ti\\right)}{4.0 d + 1.0}\\right\\}\\right]$"
      ],
      "text/plain": [
       "⎡⎧    4.0⋅d⋅(2.0⋅p - ti)⎫⎤\n",
       "⎢⎨tj: ──────────────────⎬⎥\n",
       "⎣⎩       4.0⋅d + 1.0    ⎭⎦"
      ]
     },
     "execution_count": 10,
     "metadata": {},
     "output_type": "execute_result"
    }
   ],
   "source": [
    "p,ti,d=sympy.symbols(('p','ti','d'))\n",
    "tj = sp.var('tj',real=True);#Define the choice variables\n",
    "Welfare1= (1/2)*((p-ti)**2)+ti*(p-ti)-d*((p-ti+p-tj)**2) #welfare\n",
    "Welfare2= (1/2)*((p-tj)**2)+tj*(p-tj)-d*((p-tj+p-ti)**2)\n",
    "Twelfare=Welfare1+Welfare2 # welfare equation \n",
    "W=Eq(diff(Twelfare,tj)) #first order condition\n",
    "Sol= sp.solve(W, [tj], dict=True) \n",
    "Sol"
   ]
  },
  {
   "cell_type": "code",
   "execution_count": 11,
   "metadata": {},
   "outputs": [
    {
     "data": {
      "image/png": "[encoded data removed]",
      "text/latex": [
       "$\\displaystyle \\left\\{ ti : \\frac{8 d p}{8 d + 1}, \\  tj : \\frac{8 d p}{8 d + 1}\\right\\}$"
      ],
      "text/plain": [
       "⎧     8⋅d⋅p        8⋅d⋅p ⎫\n",
       "⎨ti: ───────, tj: ───────⎬\n",
       "⎩    8⋅d + 1      8⋅d + 1⎭"
      ]
     },
     "execution_count": 11,
     "metadata": {},
     "output_type": "execute_result"
    }
   ],
   "source": [
    "sympy.init_printing()\n",
    "ti,tj=sympy.symbols((\"ti,tj\"))\n",
    "eq1=Eq((((4*d)*((2*p)-ti))/((4*d)+1))-tj,0)\n",
    "eq2=Eq((((4*d)*((2*p)-tj))/((4*d)+1))-ti,0)\n",
    "res1=solve([eq1,eq2],(ti,tj))##system of equation###\n",
    "\n",
    "res1"
   ]
  },
  {
   "cell_type": "code",
   "execution_count": 13,
   "metadata": {},
   "outputs": [
    {
     "data": {
      "image/png": "[encoded data removed]",
      "text/latex": [
       "$\\displaystyle - \\frac{8 d p}{8 d + 1} + p$"
      ],
      "text/plain": [
       "   8⋅d⋅p     \n",
       "- ─────── + p\n",
       "  8⋅d + 1    "
      ]
     },
     "execution_count": 13,
     "metadata": {},
     "output_type": "execute_result"
    }
   ],
   "source": [
    "t=(8*d*p)/(8*d+1)\n",
    "Q2=p-t\n",
    "Q2"
   ]
  },
  {
   "cell_type": "code",
   "execution_count": 14,
   "metadata": {},
   "outputs": [
    {
     "data": {
      "image/png": "[encoded data removed]",
      "text/latex": [
       "$\\displaystyle \\left\\{ ti : 8.88888888888889, \\  tj : 8.88888888888889\\right\\}$"
      ],
      "text/plain": [
       "{ti: 8.88888888888889, tj: 8.88888888888889}"
      ]
     },
     "execution_count": 14,
     "metadata": {},
     "output_type": "execute_result"
    }
   ],
   "source": [
    "d=0.1\n",
    "p=20\n",
    "ti,tj=sympy.symbols((\"ti,tj\"))\n",
    "eq1=Eq((((4*d)*((2*p)-ti))/((4*d)+1))-tj,0)\n",
    "eq2=Eq((((4*d)*((2*p)-tj))/((4*d)+1))-ti,0)\n",
    "res1=solve([eq1,eq2],(ti,tj))##system of equation###\n",
    "\n",
    "res1"
   ]
  },
  {
   "cell_type": "code",
   "execution_count": 15,
   "metadata": {},
   "outputs": [
    {
     "data": {
      "image/png": "[encoded data removed]",
      "text/latex": [
       "$\\displaystyle 11.11111111111111$"
      ],
      "text/plain": [
       "11.11111111111111"
      ]
     },
     "execution_count": 15,
     "metadata": {},
     "output_type": "execute_result"
    }
   ],
   "source": [
    "t=(8*d*p)/(8*d+1)\n",
    "Q2=p-t\n",
    "Q2"
   ]
  }
 ],
 "metadata": {
  "kernelspec": {
   "display_name": "Python 3",
   "language": "python",
   "name": "python3"
  },
  "language_info": {
   "codemirror_mode": {
    "name": "ipython",
    "version": 3
   },
   "file_extension": ".py",
   "mimetype": "text/x-python",
   "name": "python",
   "nbconvert_exporter": "python",
   "pygments_lexer": "ipython3",
   "version": "3.7.3"
  }
 },
 "nbformat": 4,
 "nbformat_minor": 2
}
