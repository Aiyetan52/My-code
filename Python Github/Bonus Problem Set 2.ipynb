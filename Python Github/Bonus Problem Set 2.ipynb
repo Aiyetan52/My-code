{
 "cells": [
  {
   "cell_type": "markdown",
   "metadata": {},
   "source": [
    "# Question 4"
   ]
  },
  {
   "cell_type": "markdown",
   "metadata": {},
   "source": [
    "The production function for good $z$ is $f(K,L)=12LK-0.1L^2K$ where $K$ and $L $are inputs. Currently, the firm is operating in the short run where K is restricted to $10$. The price of good $z$ is $p$ and the input price for $K$ and $L$ are $r$ and $w$, respectively.Use python to solve for the optimal labor and profit, when $p=10$, $r=1$, $w=2$."
   ]
  },
  {
   "cell_type": "code",
   "execution_count": 69,
   "metadata": {},
   "outputs": [
    {
     "name": "stdout",
     "output_type": "stream",
     "text": [
      "[59.9000000000000]\n"
     ]
    }
   ],
   "source": [
    "from sympy import *\n",
    "L=symbols(\"L\") # Choice variable\n",
    "P=10 # price of output\n",
    "r=1 #Price of capital\n",
    "w=2 #Price of labour\n",
    "K=10 # Restricted Capital\n",
    "R= P*((12*L*K)-(0.1*(L**2)*K)) # Revenue equation\n",
    "C = w*L+ r*K #Cost equation\n",
    "Profit=R-C # profit equation \n",
    "Z=Eq(diff(Profit,L)) #first order condition \n",
    "res=solve(Z,L)#optimum labor\n",
    "print(res)"
   ]
  },
  {
   "cell_type": "code",
   "execution_count": 70,
   "metadata": {},
   "outputs": [
    {
     "name": "stdout",
     "output_type": "stream",
     "text": [
      "35870.1\n"
     ]
    }
   ],
   "source": [
    "L=59.9 #optimum labor\n",
    "opt_profit=-10.0*L**2 + 1198*L - 10 #optimum profit\n",
    "print(opt_profit)"
   ]
  }
 ],
 "metadata": {
  "kernelspec": {
   "display_name": "Python 3",
   "language": "python",
   "name": "python3"
  },
  "language_info": {
   "codemirror_mode": {
    "name": "ipython",
    "version": 3
   },
   "file_extension": ".py",
   "mimetype": "text/x-python",
   "name": "python",
   "nbconvert_exporter": "python",
   "pygments_lexer": "ipython3",
   "version": "3.7.3"
  }
 },
 "nbformat": 4,
 "nbformat_minor": 2
}
