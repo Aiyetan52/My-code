{
 "cells": [
  {
   "cell_type": "code",
   "execution_count": null,
   "metadata": {},
   "outputs": [],
   "source": [
    "## Question A"
   ]
  },
  {
   "cell_type": "markdown",
   "metadata": {},
   "source": [
    "Write a python code that sets up problem 4 and answer 4.3"
   ]
  },
  {
   "cell_type": "markdown",
   "metadata": {},
   "source": [
    "$$ max_{F,Y} U= FY \\\\ I=P_{f}F+P_{y}Y$$\n",
    "\n"
   ]
  },
  {
   "cell_type": "markdown",
   "metadata": {},
   "source": [
    "Assume that her income is \\\\$12 and the prices are $P_{f}$= \\\\$2 and $P_{y}$ = \\\\$1. How much food and other goods will she purchase to maximize her utility? What is the highest utility level given her optimal purchase of food and other goods?  \n"
   ]
  },
  {
   "cell_type": "code",
   "execution_count": 2,
   "metadata": {},
   "outputs": [
    {
     "data": {
      "image/png": "[encoded data removed]",
      "text/latex": [
       "$\\displaystyle \\left[ \\left\\{ F : \\frac{I}{2 P_{f}}, \\  Y : \\frac{I}{2 P_{y}}, \\  \\lambda : \\frac{I}{2 P_{f} P_{y}}\\right\\}\\right]$"
      ],
      "text/plain": [
       "⎡⎧     I         I           I    ⎫⎤\n",
       "⎢⎨F: ─────, Y: ─────, λ: ─────────⎬⎥\n",
       "⎣⎩   2⋅P_f     2⋅P_y     2⋅P_f⋅P_y⎭⎦"
      ]
     },
     "execution_count": 2,
     "metadata": {},
     "output_type": "execute_result"
    }
   ],
   "source": [
    "import sympy as sp\n",
    "import sympy \n",
    "from sympy import symbols \n",
    "from sympy import *\n",
    "sympy.init_printing()\n",
    "#P_f=2 # price of F\n",
    "#P_y=1 #Price of Y\n",
    "#I=12 # Income\n",
    "P_f,P_y,I,F,Y,=sympy.symbols(('P_f','P_y','I','F','Y'))\n",
    "F,Y = sp.var('F,Y',real=True);#Define the choice variables \n",
    "U = F*Y #Utility function \n",
    "g = P_f*F+ P_y*Y - I #Budget constraint i.e g=0\n",
    "lam = sp.symbols('lambda', real = True) # the exchange rate variable of lagrangian multiplier\n",
    "L = U - lam* g # lagrangian function\n",
    "gradL = [sp.diff(L,c) for c in [F,Y]] # Gradient of Lagrangian w.r.t. (x,y)\n",
    "KKT = gradL + [g]# Determine the Karush-Kuhn-Tucker(KKT) condition \n",
    "Sol= sp.solve(KKT, [F, Y, lam], dict=True) #minimize or maximize the U given g=0 by solving KKT conditions over F,Y Lambda\n",
    "Sol"
   ]
  },
  {
   "cell_type": "code",
   "execution_count": 3,
   "metadata": {},
   "outputs": [
    {
     "name": "stdout",
     "output_type": "stream",
     "text": [
      "[-P_f*lambda + Y, F - P_y*lambda]\n"
     ]
    }
   ],
   "source": [
    "gradL = [sp.diff(L,c) for c in [F,Y]] \n",
    "print(gradL)"
   ]
  },
  {
   "cell_type": "markdown",
   "metadata": {},
   "source": [
    "$U=FY=18$"
   ]
  },
  {
   "cell_type": "markdown",
   "metadata": {},
   "source": [
    "## Question B"
   ]
  },
  {
   "cell_type": "markdown",
   "metadata": {},
   "source": [
    "Write a python code that sets 1.1 and solves it."
   ]
  },
  {
   "cell_type": "markdown",
   "metadata": {},
   "source": [
    "1(a) $$f(x,y)=2x+y-3x^2-4y^2+xy$$\n",
    "Determine whwether the critical points are local maximums,minimums or saddle points"
   ]
  },
  {
   "cell_type": "code",
   "execution_count": 12,
   "metadata": {},
   "outputs": [],
   "source": [
    "from sympy import *"
   ]
  },
  {
   "cell_type": "code",
   "execution_count": 13,
   "metadata": {},
   "outputs": [],
   "source": [
    "######## Problem 1(a)#################\n",
    "x,y=symbols(\"x,y\")\n",
    "f=2*x+y-3*(x**2)-4*(y**2)+x*y"
   ]
  },
  {
   "cell_type": "code",
   "execution_count": 14,
   "metadata": {},
   "outputs": [
    {
     "data": {
      "text/latex": [
       "$\\displaystyle - 6 x + y + 2$"
      ],
      "text/plain": [
       "-6*x + y + 2"
      ]
     },
     "execution_count": 14,
     "metadata": {},
     "output_type": "execute_result"
    }
   ],
   "source": [
    "##df/dx###\n",
    "diff(f,x) "
   ]
  },
  {
   "cell_type": "code",
   "execution_count": 15,
   "metadata": {},
   "outputs": [
    {
     "data": {
      "text/latex": [
       "$\\displaystyle x - 8 y + 1$"
      ],
      "text/plain": [
       "x - 8*y + 1"
      ]
     },
     "execution_count": 15,
     "metadata": {},
     "output_type": "execute_result"
    }
   ],
   "source": [
    "##df/dy###\n",
    "diff(f,y) "
   ]
  },
  {
   "cell_type": "code",
   "execution_count": 16,
   "metadata": {},
   "outputs": [
    {
     "name": "stdout",
     "output_type": "stream",
     "text": [
      "{x: 17/47, y: 8/47}\n"
     ]
    }
   ],
   "source": [
    "## Solve for the critical point#####\n",
    "x,y=symbols(\"x,y\")\n",
    "eq1=Eq(-6*x+y,-2)##df/dx=0###\n",
    "eq2=Eq(x-8*y,-1)##df/dy=0###\n",
    "res=solve([eq1,eq2],(x,y))##system of equation###\n",
    "\n",
    "print(res);"
   ]
  },
  {
   "cell_type": "code",
   "execution_count": 17,
   "metadata": {},
   "outputs": [
    {
     "data": {
      "text/latex": [
       "$\\displaystyle \\left[\\begin{matrix}-6 & 1\\\\1 & -8\\end{matrix}\\right]$"
      ],
      "text/plain": [
       "Matrix([\n",
       "[-6,  1],\n",
       "[ 1, -8]])"
      ]
     },
     "execution_count": 17,
     "metadata": {},
     "output_type": "execute_result"
    }
   ],
   "source": [
    "\n",
    "X=Matrix([x,y])\n",
    "Z=simplify(hessian(f,X))\n",
    "Z"
   ]
  },
  {
   "cell_type": "markdown",
   "metadata": {},
   "source": [
    "1(b) $$h(x,y)=2x^2-4y^2+1$$\n",
    "Determine whwether the critical points are local maximums,minimums or saddle points"
   ]
  },
  {
   "cell_type": "code",
   "execution_count": 18,
   "metadata": {},
   "outputs": [],
   "source": [
    "\n",
    "######## Problem 1(b)#################\n",
    "x,y=symbols(\"x,y\")\n",
    "h=2*(x**2)-4*(y**2)+1"
   ]
  },
  {
   "cell_type": "code",
   "execution_count": 19,
   "metadata": {},
   "outputs": [
    {
     "data": {
      "text/latex": [
       "$\\displaystyle 4 x$"
      ],
      "text/plain": [
       "4*x"
      ]
     },
     "execution_count": 19,
     "metadata": {},
     "output_type": "execute_result"
    }
   ],
   "source": [
    "##dh/dx###\n",
    "diff(h,x) "
   ]
  },
  {
   "cell_type": "code",
   "execution_count": 47,
   "metadata": {},
   "outputs": [
    {
     "data": {
      "text/latex": [
       "$\\displaystyle - 8 y$"
      ],
      "text/plain": [
       "-8*y"
      ]
     },
     "execution_count": 47,
     "metadata": {},
     "output_type": "execute_result"
    }
   ],
   "source": [
    "##dh/dy###\n",
    "diff(h,y) "
   ]
  },
  {
   "cell_type": "markdown",
   "metadata": {},
   "source": [
    "For Maxima and minima, $dh/dx=0,dh/dy=0$. So there is one critical point: (0,0)."
   ]
  },
  {
   "cell_type": "code",
   "execution_count": 58,
   "metadata": {},
   "outputs": [
    {
     "data": {
      "text/latex": [
       "$\\displaystyle \\left[\\begin{matrix}4 & 0\\\\0 & -8\\end{matrix}\\right]$"
      ],
      "text/plain": [
       "Matrix([\n",
       "[4,  0],\n",
       "[0, -8]])"
      ]
     },
     "execution_count": 58,
     "metadata": {},
     "output_type": "execute_result"
    }
   ],
   "source": [
    "X=Matrix([x,y])\n",
    "Z=simplify(hessian(h,X))\n",
    "Z"
   ]
  },
  {
   "cell_type": "markdown",
   "metadata": {},
   "source": [
    "The diagonals have different signs and the determinant is negative. This does not satisfy conditions for a minimum nor a maximum so this is a saddlepoint."
   ]
  },
  {
   "cell_type": "markdown",
   "metadata": {},
   "source": [
    "1(c) $$g(x,y,z)=(x^2+y^4+z^6)^2$$\n",
    "Determine whwether the critical points are local maximums,minimums or saddle points"
   ]
  },
  {
   "cell_type": "code",
   "execution_count": 52,
   "metadata": {},
   "outputs": [],
   "source": [
    "\n",
    "######## Problem 1(c)#################\n",
    "x,y,z=symbols(\"x,y,z\")\n",
    "g=(x**2+y**4+z**6)**2"
   ]
  },
  {
   "cell_type": "code",
   "execution_count": 53,
   "metadata": {},
   "outputs": [
    {
     "data": {
      "text/latex": [
       "$\\displaystyle 4 x \\left(x^{2} + y^{4} + z^{6}\\right)$"
      ],
      "text/plain": [
       "4*x*(x**2 + y**4 + z**6)"
      ]
     },
     "execution_count": 53,
     "metadata": {},
     "output_type": "execute_result"
    }
   ],
   "source": [
    "##dg/dx###\n",
    "diff(g,x) "
   ]
  },
  {
   "cell_type": "code",
   "execution_count": 54,
   "metadata": {},
   "outputs": [
    {
     "data": {
      "text/latex": [
       "$\\displaystyle 8 y^{3} \\left(x^{2} + y^{4} + z^{6}\\right)$"
      ],
      "text/plain": [
       "8*y**3*(x**2 + y**4 + z**6)"
      ]
     },
     "execution_count": 54,
     "metadata": {},
     "output_type": "execute_result"
    }
   ],
   "source": [
    "##dg/dy###\n",
    "diff(g,y) "
   ]
  },
  {
   "cell_type": "code",
   "execution_count": 55,
   "metadata": {},
   "outputs": [
    {
     "data": {
      "text/latex": [
       "$\\displaystyle 12 z^{5} \\left(x^{2} + y^{4} + z^{6}\\right)$"
      ],
      "text/plain": [
       "12*z**5*(x**2 + y**4 + z**6)"
      ]
     },
     "execution_count": 55,
     "metadata": {},
     "output_type": "execute_result"
    }
   ],
   "source": [
    "##dg/dz###\n",
    "diff(g,z) "
   ]
  },
  {
   "cell_type": "markdown",
   "metadata": {},
   "source": [
    "$dg/dx=0,dg/dy=0,dg/dz=0$. So the only solution is (0,0,0)."
   ]
  },
  {
   "cell_type": "code",
   "execution_count": 57,
   "metadata": {},
   "outputs": [
    {
     "data": {
      "text/latex": [
       "$\\displaystyle \\left[\\begin{matrix}12 x^{2} + 4 y^{4} + 4 z^{6} & 16 x y^{3} & 24 x z^{5}\\\\16 x y^{3} & y^{2} \\left(24 x^{2} + 56 y^{4} + 24 z^{6}\\right) & 48 y^{3} z^{5}\\\\24 x z^{5} & 48 y^{3} z^{5} & z^{4} \\left(60 x^{2} + 60 y^{4} + 132 z^{6}\\right)\\end{matrix}\\right]$"
      ],
      "text/plain": [
       "Matrix([\n",
       "[12*x**2 + 4*y**4 + 4*z**6,                          16*x*y**3,                           24*x*z**5],\n",
       "[                16*x*y**3, y**2*(24*x**2 + 56*y**4 + 24*z**6),                        48*y**3*z**5],\n",
       "[                24*x*z**5,                       48*y**3*z**5, z**4*(60*x**2 + 60*y**4 + 132*z**6)]])"
      ]
     },
     "execution_count": 57,
     "metadata": {},
     "output_type": "execute_result"
    }
   ],
   "source": [
    "X=Matrix([x,y,z])\n",
    "Z=simplify(hessian(g,X))\n",
    "Z"
   ]
  },
  {
   "cell_type": "markdown",
   "metadata": {},
   "source": [
    "Evaluated at (0,0,0) it is a saddelpoint"
   ]
  }
 ],
 "metadata": {
  "kernelspec": {
   "display_name": "Python 3",
   "language": "python",
   "name": "python3"
  },
  "language_info": {
   "codemirror_mode": {
    "name": "ipython",
    "version": 3
   },
   "file_extension": ".py",
   "mimetype": "text/x-python",
   "name": "python",
   "nbconvert_exporter": "python",
   "pygments_lexer": "ipython3",
   "version": "3.7.3"
  }
 },
 "nbformat": 4,
 "nbformat_minor": 2
}
