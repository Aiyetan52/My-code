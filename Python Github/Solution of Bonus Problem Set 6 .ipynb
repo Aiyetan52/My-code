{
 "cells": [
  {
   "cell_type": "markdown",
   "metadata": {},
   "source": [
    "## Question 3 "
   ]
  },
  {
   "cell_type": "markdown",
   "metadata": {},
   "source": [
    "Suppose a monopoly can produce any level of output it wishes at a constant marginal (and average) cost of  $ \\$5 $ per unit. Assume the monopoly sells its goods in two different markets separated by some distance. The demand curve in the first market is given by\n",
    "$$Q_1=55-P_1$$\n",
    "and the demand curve in the second market is given by\n",
    "$$Q_2=70-2P_2$$\n"
   ]
  },
  {
   "cell_type": "markdown",
   "metadata": {},
   "source": [
    "\n",
    "a.\tIf the monopolist can maintain the separation between the two markets, what level of output should be produced in each market, and what price will prevail in each market? What are total profits in this situation?"
   ]
  },
  {
   "cell_type": "code",
   "execution_count": 3,
   "metadata": {},
   "outputs": [
    {
     "data": {
      "image/png": "[encoded data removed]",
      "text/latex": [
       "$\\displaystyle \\left[ 25\\right]$"
      ],
      "text/plain": [
       "[25]"
      ]
     },
     "metadata": {},
     "output_type": "display_data"
    },
    {
     "data": {
      "image/png": "[encoded data removed]",
      "text/latex": [
       "$\\displaystyle \\left[ 30.0\\right]$"
      ],
      "text/plain": [
       "[30.0]"
      ]
     },
     "metadata": {},
     "output_type": "display_data"
    }
   ],
   "source": [
    "from IPython.display import display\n",
    "import sympy as sp\n",
    "import sympy \n",
    "from sympy import symbols \n",
    "from sympy import *\n",
    "sympy.init_printing()\n",
    "Q1 = sp.var('Q1',real=True);\n",
    "Q2 = sp.var('Q2',real=True);\n",
    "C=5#marginal cost\n",
    "P1=55-Q1#market demand in Market 1\n",
    "P2=35-((1/2)*Q2)#market demand in Market 2\n",
    "Profit1=P1*Q1-C*Q1 #profit equation in market 1\n",
    "Profit2=P2*Q2-C*Q2 #profit equation in market 2\n",
    "Z1_max=Eq(diff(Profit1,Q1))# maximization of profit in market 1\n",
    "Z2_max=Eq(diff(Profit2,Q2))# maximization of profit in market 2\n",
    "Q1_max=solve(Z1_max,Q1)#optimum output in market 1\n",
    "Q2_max=solve(Z2_max,Q2)#optimum output in market 2\n",
    "display(Q1_max)\n",
    "display(Q2_max)"
   ]
  },
  {
   "cell_type": "code",
   "execution_count": 4,
   "metadata": {},
   "outputs": [
    {
     "data": {
      "image/png": "[encoded data removed]",
      "text/latex": [
       "$\\displaystyle 30$"
      ],
      "text/plain": [
       "30"
      ]
     },
     "metadata": {},
     "output_type": "display_data"
    },
    {
     "data": {
      "image/png": "[encoded data removed]",
      "text/latex": [
       "$\\displaystyle 20.0$"
      ],
      "text/plain": [
       "20.0"
      ]
     },
     "metadata": {},
     "output_type": "display_data"
    },
    {
     "data": {
      "image/png": "[encoded data removed]",
      "text/latex": [
       "$\\displaystyle 625$"
      ],
      "text/plain": [
       "625"
      ]
     },
     "metadata": {},
     "output_type": "display_data"
    },
    {
     "data": {
      "image/png": "[encoded data removed]",
      "text/latex": [
       "$\\displaystyle 450.0$"
      ],
      "text/plain": [
       "450.0"
      ]
     },
     "metadata": {},
     "output_type": "display_data"
    },
    {
     "data": {
      "image/png": "[encoded data removed]",
      "text/latex": [
       "$\\displaystyle 1075.0$"
      ],
      "text/plain": [
       "1075.0"
      ]
     },
     "metadata": {},
     "output_type": "display_data"
    }
   ],
   "source": [
    "Q1_max=25\n",
    "Q2_max=30\n",
    "P1_max=55-Q1_max\n",
    "P2_max=35-(0.5*Q2_max)\n",
    "Profit1_max=P1_max*Q1_max-C*Q1_max\n",
    "Profit2_max=P2_max*Q2_max-C*Q2_max\n",
    "TotalProfit_max=Profit1_max+Profit2_max\n",
    "display(P1_max)#optimum price in market 1\n",
    "display(P2_max)#optimum price in market 2\n",
    "display(Profit1_max)#optimum profit in market 1\n",
    "display(Profit2_max)#optimum profit in market 2\n",
    "display(TotalProfit_max)#total profit "
   ]
  },
  {
   "cell_type": "markdown",
   "metadata": {},
   "source": [
    "\n",
    "b.\tHow would your answer change if transportation costs between the two markets is zero forcing the firm to follow a single-price policy?"
   ]
  },
  {
   "cell_type": "code",
   "execution_count": 5,
   "metadata": {},
   "outputs": [
    {
     "data": {
      "image/png": "[encoded data removed]",
      "text/latex": [
       "$\\displaystyle \\left[ 55.0\\right]$"
      ],
      "text/plain": [
       "[55.0]"
      ]
     },
     "metadata": {},
     "output_type": "display_data"
    }
   ],
   "source": [
    "from fractions import Fraction\n",
    "Q = sp.var('Q',real=True);\n",
    "C=5 #marginal cost\n",
    "P=(125/3)-((1/3)*Q)\n",
    "Profit=P*Q-C*Q\n",
    "Z_max=Eq(diff(Profit,Q))\n",
    "Q_max=solve(Z_max,Q)\n",
    "display(Q_max)"
   ]
  },
  {
   "cell_type": "code",
   "execution_count": 6,
   "metadata": {},
   "outputs": [
    {
     "data": {
      "image/png": "[encoded data removed]",
      "text/latex": [
       "$\\displaystyle 23.333333333333332$"
      ],
      "text/plain": [
       "23.333333333333332"
      ]
     },
     "metadata": {},
     "output_type": "display_data"
    },
    {
     "data": {
      "image/png": "[encoded data removed]",
      "text/latex": [
       "$\\displaystyle 1008.3333333333333$"
      ],
      "text/plain": [
       "1008.3333333333333"
      ]
     },
     "metadata": {},
     "output_type": "display_data"
    }
   ],
   "source": [
    "Q_max=55\n",
    "C=5\n",
    "P_max=(125/3)-((1/3)*Q_max)\n",
    "Profit_max=P_max*Q_max-C*Q_max\n",
    "display(P_max)\n",
    "display(Profit_max)"
   ]
  }
 ],
 "metadata": {
  "kernelspec": {
   "display_name": "Python 3",
   "language": "python",
   "name": "python3"
  },
  "language_info": {
   "codemirror_mode": {
    "name": "ipython",
    "version": 3
   },
   "file_extension": ".py",
   "mimetype": "text/x-python",
   "name": "python",
   "nbconvert_exporter": "python",
   "pygments_lexer": "ipython3",
   "version": "3.7.3"
  }
 },
 "nbformat": 4,
 "nbformat_minor": 2
}
