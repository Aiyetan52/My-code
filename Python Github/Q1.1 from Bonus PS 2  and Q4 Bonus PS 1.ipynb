{
 "cells": [
  {
   "cell_type": "markdown",
   "metadata": {},
   "source": [
    "## Question 1"
   ]
  },
  {
   "cell_type": "markdown",
   "metadata": {},
   "source": [
    "Solve for the following conditional factor demand functions and the cost function. Also, derive the effect of output on total cost and the demand for input $x$.\n",
    "\n",
    "$$min_{X,Z}W_xX+W_zZ \\\\ s.t \\ Y=(X^{\\rho}+Z^{\\rho})^{1/\\rho}$$"
   ]
  },
  {
   "cell_type": "code",
   "execution_count": 41,
   "metadata": {},
   "outputs": [
    {
     "data": {
      "image/png": "[encoded data removed]",
      "text/latex": [
       "$\\displaystyle \\left[ \\left\\{ X : \\left(\\frac{W_{x} \\left(Y^{- \\rho} \\rho^{- \\frac{\\rho}{\\rho - 1}} \\left(W_{x}^{\\frac{\\rho}{\\rho - 1}} + W_{z}^{\\frac{\\rho}{\\rho - 1}}\\right)\\right)^{\\frac{1 - \\rho}{\\rho}}}{\\rho}\\right)^{\\frac{1}{\\rho - 1}}, \\  Z : \\left(\\frac{W_{z} \\left(Y^{- \\rho} \\rho^{- \\frac{\\rho}{\\rho - 1}} \\left(W_{x}^{\\frac{\\rho}{\\rho - 1}} + W_{z}^{\\frac{\\rho}{\\rho - 1}}\\right)\\right)^{\\frac{1 - \\rho}{\\rho}}}{\\rho}\\right)^{\\frac{1}{\\rho - 1}}, \\  \\lambda : \\left(Y^{- \\rho} \\rho^{- \\frac{\\rho}{\\rho - 1}} \\left(W_{x}^{\\frac{\\rho}{\\rho - 1}} + W_{z}^{\\frac{\\rho}{\\rho - 1}}\\right)\\right)^{\\frac{\\rho - 1}{\\rho}}\\right\\}\\right]$"
      ],
      "text/plain": [
       "⎡⎧                                                1                           \n",
       "⎢⎪                                              ─────                         \n",
       "⎢⎪                                              ρ - 1                         \n",
       "⎢⎪   ⎛                                    1 - ρ⎞          ⎛                   \n",
       "⎢⎪   ⎜                                    ─────⎟          ⎜                   \n",
       "⎢⎪   ⎜                                      ρ  ⎟          ⎜                   \n",
       "⎢⎨   ⎜   ⎛      -ρ   ⎛    ρ          ρ  ⎞⎞     ⎟          ⎜    ⎛      -ρ   ⎛  \n",
       "⎢⎪   ⎜   ⎜     ───── ⎜  ─────      ─────⎟⎟     ⎟          ⎜    ⎜     ───── ⎜  \n",
       "⎢⎪   ⎜   ⎜ -ρ  ρ - 1 ⎜  ρ - 1      ρ - 1⎟⎟     ⎟          ⎜    ⎜ -ρ  ρ - 1 ⎜  \n",
       "⎢⎪   ⎜Wₓ⋅⎝Y  ⋅ρ     ⋅⎝Wₓ      + W_z     ⎠⎠     ⎟          ⎜W_z⋅⎝Y  ⋅ρ     ⋅⎝Wₓ\n",
       "⎢⎪X: ⎜─────────────────────────────────────────⎟     , Z: ⎜───────────────────\n",
       "⎢⎪   ⎝                    ρ                    ⎠          ⎝                   \n",
       "⎣⎩                                                                            \n",
       "\n",
       "                          1                                             ⎫⎤\n",
       "                        ─────                                           ⎪⎥\n",
       "                        ρ - 1                                           ⎪⎥\n",
       "                  1 - ρ⎞                                                ⎪⎥\n",
       "                  ─────⎟                                           ρ - 1⎪⎥\n",
       "                    ρ  ⎟                                           ─────⎪⎥\n",
       "  ρ          ρ  ⎞⎞     ⎟                                             ρ  ⎬⎥\n",
       "─────      ─────⎟⎟     ⎟          ⎛      -ρ   ⎛    ρ          ρ  ⎞⎞     ⎪⎥\n",
       "ρ - 1      ρ - 1⎟⎟     ⎟          ⎜     ───── ⎜  ─────      ─────⎟⎟     ⎪⎥\n",
       "      + W_z     ⎠⎠     ⎟          ⎜ -ρ  ρ - 1 ⎜  ρ - 1      ρ - 1⎟⎟     ⎪⎥\n",
       "───────────────────────⎟     , λ: ⎝Y  ⋅ρ     ⋅⎝Wₓ      + W_z     ⎠⎠     ⎪⎥\n",
       " ρ                     ⎠                                                ⎪⎥\n",
       "                                                                        ⎭⎦"
      ]
     },
     "execution_count": 41,
     "metadata": {},
     "output_type": "execute_result"
    }
   ],
   "source": [
    "import sympy as sp\n",
    "import sympy \n",
    "from sympy import symbols\n",
    "from sympy import *\n",
    "sympy.init_printing()\n",
    "W_x,W_z,Y,X,Z,rho=sympy.symbols(('W_x','W_z','Y','X','Z','rho'))\n",
    "X, Z = sp.var('X,Z',real=True);#Define the choice variables \n",
    "h= ((X**rho)+(Z**rho))-Y**rho #Demand Equation \n",
    "g= W_x*X+ W_z*Z  #Cost function i.e g=0\n",
    "lam = sp.symbols('lambda', real = True) # the exchange rate variable of lagrangian multiplier\n",
    "L = g - lam* h # lagrangian function\n",
    "gradL = [sp.diff(L,c) for c in [X,Z]] # Gradient of Lagrangian w.r.t. (x,y)\n",
    "KKT = gradL +[h] # Determine the Karush-Kuhn-Tucker(KKT) condition \n",
    "Sol= sp.solve(KKT, [X, Z, lam], dict=True) #minimize or maximize the U given g=0 by solving KKT conditions over F,Y Lambda\n",
    "Sol"
   ]
  },
  {
   "cell_type": "markdown",
   "metadata": {},
   "source": [
    "## Question 4 "
   ]
  },
  {
   "cell_type": "markdown",
   "metadata": {},
   "source": [
    "Write a python code that sets up problem 4 and answer 4.3\n",
    "\n",
    "$$ max_{F,Y} U= FY \\\\ I=P_{f}F+P_{y}Y$$\n",
    "\n",
    "Assume that her income is \\\\$12 and the prices are $P_{f}$= \\\\$2 and $P_{y}$ = \\\\$1. How much food and other goods will she purchase to maximize her utility? What is the highest utility level given her optimal purchase of food and other goods?  \n",
    "\n"
   ]
  },
  {
   "cell_type": "code",
   "execution_count": 42,
   "metadata": {},
   "outputs": [
    {
     "data": {
      "image/png": "[encoded data removed]",
      "text/latex": [
       "$\\displaystyle \\left[ \\left\\{ F : \\frac{I}{2 P_{f}}, \\  Y : \\frac{I}{2 P_{y}}, \\  \\lambda : \\frac{I}{2 P_{f} P_{y}}\\right\\}\\right]$"
      ],
      "text/plain": [
       "⎡⎧     I         I           I    ⎫⎤\n",
       "⎢⎨F: ─────, Y: ─────, λ: ─────────⎬⎥\n",
       "⎣⎩   2⋅P_f     2⋅P_y     2⋅P_f⋅P_y⎭⎦"
      ]
     },
     "execution_count": 42,
     "metadata": {},
     "output_type": "execute_result"
    }
   ],
   "source": [
    "import sympy as sp\n",
    "import sympy \n",
    "from sympy import symbols\n",
    "from sympy import *\n",
    "sympy.init_printing()\n",
    "#P_f=2 # price of F\n",
    "#P_y=1 #Price of Y\n",
    "#I=12 # Income\n",
    "P_f,P_y,I,F,Y,=sympy.symbols(('P_f','P_y','I','F','Y'))\n",
    "F, Y = sp.var('F,Y',real=True);#Define the choice variables \n",
    "U = F*Y #Utility function \n",
    "g = P_f*F+ P_y*Y - I #Budget constraint i.e g=0\n",
    "lam = sp.symbols('lambda', real = True) # the exchange rate variable of lagrangian multiplier\n",
    "L = U - lam* g # lagrangian function\n",
    "gradL = [sp.diff(L,c) for c in [F,Y]] # Gradient of Lagrangian w.r.t. (x,y)\n",
    "KKT = gradL + [g]# Determine the Karush-Kuhn-Tucker(KKT) condition \n",
    "Sol= sp.solve(KKT, [F, Y, lam], dict=True) #minimize or maximize the U given g=0 by solving KKT conditions over F,Y Lambda\n",
    "Sol"
   ]
  },
  {
   "cell_type": "code",
   "execution_count": null,
   "metadata": {},
   "outputs": [],
   "source": []
  }
 ],
 "metadata": {
  "kernelspec": {
   "display_name": "Python 3",
   "language": "python",
   "name": "python3"
  },
  "language_info": {
   "codemirror_mode": {
    "name": "ipython",
    "version": 3
   },
   "file_extension": ".py",
   "mimetype": "text/x-python",
   "name": "python",
   "nbconvert_exporter": "python",
   "pygments_lexer": "ipython3",
   "version": "3.7.3"
  }
 },
 "nbformat": 4,
 "nbformat_minor": 2
}
